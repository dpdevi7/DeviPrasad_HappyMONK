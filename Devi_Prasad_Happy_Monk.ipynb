{
 "cells": [
  {
   "cell_type": "code",
   "execution_count": 135,
   "metadata": {
    "id": "17wCSQHH7Rgp"
   },
   "outputs": [],
   "source": [
    "import numpy as np\n",
    "from scipy.special import softmax\n",
    "from math import log2\n",
    "from sklearn.metrics import f1_score, accuracy_score\n",
    "from sklearn import datasets\n",
    "from sklearn.preprocessing import OneHotEncoder\n",
    "from sklearn.model_selection import train_test_split\n",
    "from sklearn.preprocessing import MinMaxScaler\n",
    "import matplotlib.pyplot as plt"
   ]
  },
  {
   "cell_type": "code",
   "execution_count": 136,
   "metadata": {
    "id": "C3ZJSugg-xhi"
   },
   "outputs": [],
   "source": [
    "# build model without using keras api\n",
    "\n",
    "class Model():\n",
    "    \n",
    "    def __init__(self, input_shape, output_shape, batch_size, epochs):\n",
    "        \n",
    "        self.learning_rate = 0.01\n",
    "        self.output = None\n",
    "        self.input_shape = input_shape\n",
    "        self.output_shape = output_shape\n",
    "        self.batch_size = batch_size\n",
    "        self.epochs = epochs\n",
    "        self.history = {\"loss\":[], \"val_loss\":[], \"acc\":[], \"val_acc\":[], \"f1\":[], \"val_f1\":[], \"K\":[]}\n",
    "      \n",
    "\n",
    "        self.W1 = np.random.normal(size=(input_shape[1], 1))\n",
    "        self.b1 = np.random.normal(size=(1, 1))\n",
    "\n",
    "        self.W2 = np.random.normal(size=(1, output_shape[1]))\n",
    "        self.b2 = np.random.normal(size=(1, output_shape[1]))\n",
    "\n",
    "        self.K = np.random.normal(size=(2))\n",
    "        self.init_K = self.K\n",
    "\n",
    "        self.cache = None\n",
    "\n",
    "    def activation(self, z):\n",
    "        return np.add(self.K[0], np.dot(self.K[1], z))\n",
    "\n",
    "    def cross_entropy(self, p, a):\n",
    "        return (-1/len(p)) * np.sum(np.log(p) * a)\n",
    "    \n",
    "    def feed_forward(self, input):\n",
    "        Z1 = np.dot(input, self.W1) + self.b1\n",
    "        A1 = self.activation(Z1)\n",
    "        Z2 = np.dot(A1, self.W2) + self.b2\n",
    "        A2 = softmax(Z2.reshape(-1, 1), axis=0).reshape(1, 3)\n",
    "\n",
    "        self.output = A2\n",
    "\n",
    "        self.cache = {\"Z1\":Z1, \"A1\":A1, \"Z2\":Z2, \"A2\":A2,}\n",
    "\n",
    "        return self.output\n",
    "\n",
    "    def backPropagate(self, X, y):\n",
    "        m = y.shape[0]\n",
    "\n",
    "        y = y.reshape(1, 3)\n",
    "        dZ2 = self.cache['A2'] - y\n",
    "        dW2 = dZ2 * self.cache['A1']\n",
    "        db2 = (1 / m) * np.sum(dZ2, axis = 1,)\n",
    "\n",
    "        dA1 = np.dot(dZ2, self.W2.T)\n",
    "        dZ1 = np.dot(dA1, self.K[1])\n",
    "        dW1 = dZ1 * X.T\n",
    "        dW1 = dW1.T\n",
    "\n",
    "        db1 = (1 / m) * np.sum(dZ1, axis = 1)\n",
    "\n",
    "        dK = np.array([1/m * np.sum(dA1, axis=1), 1/m * np.sum((np.dot(dA1, self.cache['Z1'])), axis=1,)])\n",
    "\n",
    "        self.W1 = self.W1 - self.learning_rate * dW1\n",
    "        self.b1 = self.b1 - self.learning_rate * db1\n",
    "        self.W2 = self.W2 - self.learning_rate * dW2\n",
    "        self.b2 = self.b2 - self.learning_rate * db2\n",
    "        self.K  = self.K.reshape(-1, 1) - self.learning_rate * dK\n",
    "        self.K = self.K.reshape(1, -1)[0]\n",
    "        \n",
    "        self.history['K'].append(self.K)\n",
    "\n",
    "\n",
    "\n",
    "    def f1_score(self, y_true, y_pred):\n",
    "\n",
    "      y_true = np.argmax(y_true, axis=-1)\n",
    "      y_pred = np.argmax(y_pred, axis=-1)\n",
    "      return f1_score(y_true, y_pred, average='macro')\n",
    "\n",
    "\n",
    "\n",
    "    def accuracy(self, y_true, y_pred):\n",
    "\n",
    "      y_true = np.argmax(y_true, axis=-1)\n",
    "      y_pred = np.argmax(y_pred, axis=-1)\n",
    "      return accuracy_score(y_true, y_pred)\n",
    "\n",
    "\n",
    "\n",
    "    def train(self, X_train, y_train, X_test, y_test):\n",
    "\n",
    "\n",
    "        for epoch in range(self.epochs):\n",
    "\n",
    "            for train_x, train_y in zip(X_train, y_train):\n",
    "\n",
    "              # train data forward, loss, backward\n",
    "              out = self.feed_forward(train_x)[0]\n",
    "              self.backPropagate(train_x, train_y)\n",
    "\n",
    "\n",
    "            train_pred = []\n",
    "            for train_x, train_y in zip(X_train, y_train):\n",
    "              \n",
    "              out = self.feed_forward(train_x)[0]\n",
    "              train_pred.append(out)\n",
    "\n",
    "\n",
    "            test_pred = []\n",
    "            for test_x, test_y in zip(X_test, y_test):\n",
    "              \n",
    "              out = self.feed_forward(test_x)[0]\n",
    "              test_pred.append(out)\n",
    "\n",
    "\n",
    "            # calculate train loss\n",
    "            loss = self.cross_entropy(train_pred, y_train)\n",
    "            self.history['loss'].append(loss)\n",
    "            # calculate test loss\n",
    "            loss = self.cross_entropy(test_pred, y_test)\n",
    "            self.history['val_loss'].append(loss)\n",
    "            # calculate train f1 score\n",
    "            self.history['f1'].append(self.f1_score(y_train, train_pred))\n",
    "            # calculate test f1 score\n",
    "            self.history['val_f1'].append(self.f1_score(y_test, test_pred))\n",
    "            # calculate train acc\n",
    "            self.history['acc'].append(self.accuracy(y_train, train_pred))\n",
    "            # calculate test acc\n",
    "            self.history['val_acc'].append(self.accuracy(y_test, test_pred))\n",
    "              \n",
    "\n",
    "        return self.history, self.init_K, self.K\n",
    "\n"
   ]
  },
  {
   "cell_type": "code",
   "execution_count": 136,
   "metadata": {
    "id": "7X_gtAGGFOsN"
   },
   "outputs": [],
   "source": []
  },
  {
   "cell_type": "code",
   "execution_count": 137,
   "metadata": {
    "id": "JNX440ZzFY-1"
   },
   "outputs": [],
   "source": [
    "iris = datasets.load_iris()\n",
    "X = iris.data  # we only take the first two features.\n",
    "y = iris.target\n",
    "\n",
    "\n",
    "X_train, X_test, y_train, y_test = train_test_split(X, y, test_size=0.33, random_state=42)\n",
    "\n",
    "# scale and center\n",
    "scaler = MinMaxScaler()\n",
    "X_train = scaler.fit_transform(X_train)\n",
    "X_test = scaler.transform(X_test)\n",
    "\n",
    "\n",
    "ohe = OneHotEncoder()\n",
    "y_train_ohe = ohe.fit_transform(y_train.reshape(-1, 1)).toarray()\n",
    "y_test_ohe = ohe.transform(y_test.reshape(-1, 1)).toarray()\n",
    "\n",
    "EPOCHS = 1000\n",
    "\n",
    "model = Model(input_shape=(1, 4), output_shape=(1, 3), batch_size=3, epochs=EPOCHS)\n",
    "\n",
    "HISTORY, initial_activation_parameters, final_activation_papameters = model.train(X_train=X_train, y_train=y_train_ohe, X_test=X_test, y_test=y_test_ohe,)\n"
   ]
  },
  {
   "cell_type": "markdown",
   "metadata": {
    "id": "CAK50PqSPebJ"
   },
   "source": [
    "## Activation parameters values"
   ]
  },
  {
   "cell_type": "code",
   "execution_count": 138,
   "metadata": {
    "colab": {
     "base_uri": "https://localhost:8080/"
    },
    "id": "_04ofnI2PCAr",
    "outputId": "9832e1d5-1e15-4450-dbaf-e2328e283188"
   },
   "outputs": [
    {
     "data": {
      "text/plain": [
       "array([0.86647402, 1.21202402])"
      ]
     },
     "execution_count": 138,
     "metadata": {
      "tags": []
     },
     "output_type": "execute_result"
    }
   ],
   "source": [
    "initial_activation_parameters"
   ]
  },
  {
   "cell_type": "code",
   "execution_count": 139,
   "metadata": {
    "colab": {
     "base_uri": "https://localhost:8080/"
    },
    "id": "ICghCqq3PlI5",
    "outputId": "a4ec6c63-5828-40d7-fd96-ac349ea03dfa"
   },
   "outputs": [
    {
     "data": {
      "text/plain": [
       "array([0.38737734, 1.91209644])"
      ]
     },
     "execution_count": 139,
     "metadata": {
      "tags": []
     },
     "output_type": "execute_result"
    }
   ],
   "source": [
    "final_activation_papameters"
   ]
  },
  {
   "cell_type": "markdown",
   "metadata": {
    "id": "41Cy1BmkSYKs"
   },
   "source": [
    "# Model parameter update"
   ]
  },
  {
   "cell_type": "code",
   "execution_count": 140,
   "metadata": {
    "id": "etzei4A0TIB2"
   },
   "outputs": [],
   "source": [
    "k0 = []\n",
    "k1 = []\n",
    "\n",
    "for item in HISTORY['K']:\n",
    "  k0.append(item[0])\n",
    "  k1.append(item[1])\n",
    "  "
   ]
  },
  {
   "cell_type": "code",
   "execution_count": 141,
   "metadata": {
    "colab": {
     "base_uri": "https://localhost:8080/",
     "height": 295
    },
    "id": "ChhiLePkSb74",
    "outputId": "4f55e358-f67c-4d58-afd3-874ed7078c6e"
   },
   "outputs": [
    {
     "data": {
      "image/png": "[encoded data removed]",
      "text/plain": [
       "<Figure size 432x288 with 1 Axes>"
      ]
     },
     "metadata": {
      "needs_background": "light",
      "tags": []
     },
     "output_type": "display_data"
    }
   ],
   "source": [
    "plt.plot(k0)\n",
    "plt.plot(k1)\n",
    "plt.title('model parameter')\n",
    "plt.ylabel('activation parameters')\n",
    "plt.xlabel('epoch')\n",
    "plt.legend(['k0', 'k1'], loc='upper left')\n",
    "plt.show()"
   ]
  },
  {
   "cell_type": "markdown",
   "metadata": {
    "id": "bozSrTPAKX6H"
   },
   "source": [
    "## Model loss"
   ]
  },
  {
   "cell_type": "code",
   "execution_count": 142,
   "metadata": {
    "colab": {
     "base_uri": "https://localhost:8080/",
     "height": 295
    },
    "id": "4SEPWwrpES6u",
    "outputId": "eebb287c-88d7-460e-e2c6-2d811dfdd664"
   },
   "outputs": [
    {
     "data": {
      "image/png": "[encoded data removed]",
      "text/plain": [
       "<Figure size 432x288 with 1 Axes>"
      ]
     },
     "metadata": {
      "needs_background": "light",
      "tags": []
     },
     "output_type": "display_data"
    }
   ],
   "source": [
    "plt.plot(HISTORY['loss'])\n",
    "plt.plot(HISTORY['val_loss'])\n",
    "plt.title('model loss')\n",
    "plt.ylabel('loss')\n",
    "plt.xlabel('epoch')\n",
    "plt.legend(['train', 'test'], loc='upper left')\n",
    "plt.show()"
   ]
  },
  {
   "cell_type": "markdown",
   "metadata": {
    "id": "ZV7rfwOOKbUE"
   },
   "source": [
    "## Model accuracy"
   ]
  },
  {
   "cell_type": "code",
   "execution_count": 143,
   "metadata": {
    "colab": {
     "base_uri": "https://localhost:8080/",
     "height": 295
    },
    "id": "ZGYcNcrAISwP",
    "outputId": "909b72c0-6171-4dfa-80e9-48534d05faf3"
   },
   "outputs": [
    {
     "data": {
      "image/png": "[encoded data removed]",
      "text/plain": [
       "<Figure size 432x288 with 1 Axes>"
      ]
     },
     "metadata": {
      "needs_background": "light",
      "tags": []
     },
     "output_type": "display_data"
    }
   ],
   "source": [
    "plt.plot(HISTORY['acc'])\n",
    "plt.plot(HISTORY['val_acc'])\n",
    "plt.title('model accuracy')\n",
    "plt.ylabel('accuracy')\n",
    "plt.xlabel('epoch')\n",
    "plt.legend(['train', 'test'], loc='upper left')\n",
    "plt.show()"
   ]
  },
  {
   "cell_type": "markdown",
   "metadata": {
    "id": "ECmr4vTpKeVy"
   },
   "source": [
    "## Model f1 score"
   ]
  },
  {
   "cell_type": "code",
   "execution_count": 144,
   "metadata": {
    "colab": {
     "base_uri": "https://localhost:8080/",
     "height": 295
    },
    "id": "A-sARXtxGJJC",
    "outputId": "bd6d92f3-e209-4828-a493-8f25cabee727"
   },
   "outputs": [
    {
     "data": {
      "image/png": "[encoded data removed]",
      "text/plain": [
       "<Figure size 432x288 with 1 Axes>"
      ]
     },
     "metadata": {
      "needs_background": "light",
      "tags": []
     },
     "output_type": "display_data"
    }
   ],
   "source": [
    "plt.plot(HISTORY['f1'])\n",
    "plt.plot(HISTORY['val_f1'])\n",
    "plt.title('model f1')\n",
    "plt.ylabel('f1-score')\n",
    "plt.xlabel('epoch')\n",
    "plt.legend(['train', 'test'], loc='upper left')\n",
    "plt.show()"
   ]
  },
  {
   "cell_type": "markdown",
   "metadata": {
    "id": "TAVeF5Q_RpPs"
   },
   "source": [
    "# Github URL\n",
    "\n",
    "https://github.com/green93/HMDevi-Prasad/blob/main/Monk_test.ipynb"
   ]
  },
  {
   "cell_type": "markdown",
   "metadata": {
    "id": "4fHRYR5VUTPH"
   },
   "source": [
    "# Parameter initialization \n",
    "W1,b1, W2, b2 ,k0,k1 are initialized from normal distribution "
   ]
  },
  {
   "cell_type": "code",
   "execution_count": null,
   "metadata": {
    "id": "yFx8uDg8Ui3f"
   },
   "outputs": [],
   "source": []
  }
 ],
 "metadata": {
  "colab": {
   "name": "Devi Prasad Happy Monk.ipynb",
   "provenance": [],
   "toc_visible": true
  },
  "kernelspec": {
   "display_name": "Python 3",
   "language": "python",
   "name": "python3"
  },
  "language_info": {
   "codemirror_mode": {
    "name": "ipython",
    "version": 3
   },
   "file_extension": ".py",
   "mimetype": "text/x-python",
   "name": "python",
   "nbconvert_exporter": "python",
   "pygments_lexer": "ipython3",
   "version": "3.8.5"
  }
 },
 "nbformat": 4,
 "nbformat_minor": 1
}
